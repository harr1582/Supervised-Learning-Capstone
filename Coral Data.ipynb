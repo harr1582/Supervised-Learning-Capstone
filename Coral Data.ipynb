{
 "cells": [
  {
   "cell_type": "markdown",
   "metadata": {},
   "source": [
    "\n",
    "## turn Islands into ordinal values?\n",
    "## turn reef zone into ordinal\n"
   ]
  },
  {
   "cell_type": "code",
   "execution_count": 4,
   "metadata": {},
   "outputs": [],
   "source": [
    "import numpy as np\n",
    "import pandas as pd \n",
    "import matplotlib.pyplot as plt\n",
    "%matplotlib inline\n",
    "import descartes\n",
    "import seaborn as sns\n",
    "import math "
   ]
  },
  {
   "cell_type": "code",
   "execution_count": 5,
   "metadata": {},
   "outputs": [
    {
     "name": "stderr",
     "output_type": "stream",
     "text": [
      "C:\\Users\\harr1\\Anaconda3\\lib\\site-packages\\IPython\\core\\interactiveshell.py:3020: DtypeWarning: Columns (22) have mixed types. Specify dtype option on import or set low_memory=False.\n",
      "  interactivity=interactivity, compiler=compiler, result=result)\n"
     ]
    }
   ],
   "source": [
    "df = pd.read_csv(r'C:\\Users\\harr1\\Downloads\\V0_BENT_LPI.csv')"
   ]
  },
  {
   "cell_type": "code",
   "execution_count": 80,
   "metadata": {},
   "outputs": [
    {
     "name": "stdout",
     "output_type": "stream",
     "text": [
      "   OBJECTID  ROUNDID MISSIONID          REGION_NAME ISLAND  SITEVISITID  \\\n",
      "1     82195       53   OES0512  Mariana Archipelago   Guam          740   \n",
      "3     82193       53   OES0512  Mariana Archipelago   Guam          740   \n",
      "4     82192       53   OES0512  Mariana Archipelago   Guam          740   \n",
      "\n",
      "     SITE  LATITUDE  LONGITUDE REEF_ZONE       ...       Sarigan  Swains  Tau  \\\n",
      "1  GUA-01  13.43005  144.63748  Forereef       ...             0       0    0   \n",
      "3  GUA-01  13.43005  144.63748  Forereef       ...             0       0    0   \n",
      "4  GUA-01  13.43005  144.63748  Forereef       ...             0       0    0   \n",
      "\n",
      "  Tinian  Tutuila  Wake Backreef  Forereef  Lagoon Protected Slope  \n",
      "1      0        0     0        0         1       0               0  \n",
      "3      0        0     0        0         1       0               0  \n",
      "4      0        0     0        0         1       0               0  \n",
      "\n",
      "[3 rows x 82 columns]\n"
     ]
    }
   ],
   "source": [
    "print (df.head(3))"
   ]
  },
  {
   "cell_type": "code",
   "execution_count": 227,
   "metadata": {
    "collapsed": true
   },
   "outputs": [
    {
     "data": {
      "text/plain": [
       "OBJECTID                0\n",
       "ROUNDID                 0\n",
       "MISSIONID               0\n",
       "REGION_NAME             0\n",
       "ISLAND                  0\n",
       "SITEVISITID             0\n",
       "SITE                    0\n",
       "LATITUDE               14\n",
       "LONGITUDE              14\n",
       "REEF_ZONE               0\n",
       "DEPTH_BIN            4334\n",
       "MIN_Z_M             19259\n",
       "MAX_Z_M             19259\n",
       "DATE_                   0\n",
       "OBS_YEAR                0\n",
       "LPITRANSECTRUN          0\n",
       "DIVER                   0\n",
       "MINDEPTH            48588\n",
       "MAXDEPTH            46710\n",
       "METHODCODE              0\n",
       "CALIBRATION        130120\n",
       "TRANNUM                 0\n",
       "LPI_SEG                 0\n",
       "BENTHICCODE             0\n",
       "FAMILY             117112\n",
       "GENUS              117112\n",
       "CATEGORY_GENUS          0\n",
       "BENTHICNAME             0\n",
       "BENTHICCATEGORY         0\n",
       "COMMON_NAME             0\n",
       "COUNT                   0\n",
       "dtype: int64"
      ]
     },
     "execution_count": 227,
     "metadata": {},
     "output_type": "execute_result"
    }
   ],
   "source": [
    "df.isna().sum()"
   ]
  },
  {
   "cell_type": "code",
   "execution_count": 7,
   "metadata": {},
   "outputs": [],
   "source": [
    "df = df.drop('MINDEPTH', axis=1)\n",
    "df = df.drop('MAXDEPTH', axis=1)\n",
    "df = df.drop('CALIBRATION', axis = 1)"
   ]
  },
  {
   "cell_type": "code",
   "execution_count": 8,
   "metadata": {},
   "outputs": [],
   "source": [
    "df= df.dropna()"
   ]
  },
  {
   "cell_type": "code",
   "execution_count": 9,
   "metadata": {
    "collapsed": true
   },
   "outputs": [
    {
     "name": "stdout",
     "output_type": "stream",
     "text": [
      "   OBJECTID  ROUNDID MISSIONID          REGION_NAME ISLAND  SITEVISITID  \\\n",
      "1     82195       53   OES0512  Mariana Archipelago   Guam          740   \n",
      "3     82193       53   OES0512  Mariana Archipelago   Guam          740   \n",
      "4     82192       53   OES0512  Mariana Archipelago   Guam          740   \n",
      "5     82197       53   OES0512  Mariana Archipelago   Guam          740   \n",
      "8     82200       53   OES0512  Mariana Archipelago   Guam          740   \n",
      "\n",
      "     SITE  LATITUDE  LONGITUDE REEF_ZONE  ...  TRANNUM  LPI_SEG  BENTHICCODE  \\\n",
      "1  GUA-01  13.43005  144.63748  Forereef  ...        1      NDR         MOSP   \n",
      "3  GUA-01  13.43005  144.63748  Forereef  ...        1      NDR         ASSP   \n",
      "4  GUA-01  13.43005  144.63748  Forereef  ...        1      NDR         ACSP   \n",
      "5  GUA-01  13.43005  144.63748  Forereef  ...        1      NDR         POCS   \n",
      "8  GUA-01  13.43005  144.63748  Forereef  ...        2      NDR         ASSP   \n",
      "\n",
      "           FAMILY        GENUS  CATEGORY_GENUS     BENTHICNAME  \\\n",
      "1     Acroporidae    Montipora       Montipora    Montipora sp   \n",
      "3     Acroporidae   Astreopora      Astreopora   Astreopora sp   \n",
      "4     Acroporidae     Acropora        Acropora     Acropora sp   \n",
      "5  Pocilloporidae  Pocillopora     Pocillopora  Pocillopora sp   \n",
      "8     Acroporidae   Astreopora      Astreopora   Astreopora sp   \n",
      "\n",
      "   BENTHICCATEGORY          COMMON_NAME COUNT  \n",
      "1             CORL  Scleractinian Coral     1  \n",
      "3             CORL  Scleractinian Coral     6  \n",
      "4             CORL  Scleractinian Coral     1  \n",
      "5             CORL  Scleractinian Coral     2  \n",
      "8             CORL  Scleractinian Coral     1  \n",
      "\n",
      "[5 rows x 28 columns]\n"
     ]
    }
   ],
   "source": [
    "print(df.head())"
   ]
  },
  {
   "cell_type": "code",
   "execution_count": 10,
   "metadata": {
    "scrolled": true
   },
   "outputs": [
    {
     "name": "stdout",
     "output_type": "stream",
     "text": [
      "# of families: 61\n",
      "Families: ['Acroporidae' 'Pocilloporidae' 'Poritidae' 'Faviidae' 'Dictyotaceae'\n",
      " 'Halimedaceae' 'Mussidae' 'Caulerpaceae' 'Alcyoniidae' 'Fungiidae'\n",
      " 'Agariciidae' 'Cardiidae' 'Milleporidae' 'Sphenopidae' 'Siderastreidae'\n",
      " 'Zoanthidae' 'Merulinidae' 'Siphonocladaceae' 'Valoniaceae'\n",
      " 'Stylasteridae' 'Dendrophylliidae' 'Briareidae' 'Oculinidae'\n",
      " 'Helioporidae' 'Corallinaceae' 'Pectiniidae' 'Caryophylliidae'\n",
      " 'Astrocoeniidae' 'Anadyomenaceae' 'Bonnemaisoniaceae' 'Liagoraceae'\n",
      " 'Rhodomelaceae' 'Ceramiaceae' 'Dasyaceae' 'Kallymeniaceae'\n",
      " 'Dasycladaceae' 'Pseudanabaenaceae' 'Boodleaceae' 'Codiaceae'\n",
      " 'Rhizophyllidaceae' 'Wrangeliaceae' 'Rhodymeniaceae' 'Dumontiaceae'\n",
      " 'Delesseriaceae' 'Galaxauraceae' 'Peyssonneliaceae' 'Sargassaceae'\n",
      " 'Nemastomataceae' 'Bryopsidaceae' 'Discosomatidae' 'Halymeniaceae'\n",
      " 'Udoteaceae' 'Nephtheidae' 'Neogoniolithoideae' 'Cystocloniaceae'\n",
      " 'Hapalidiaceae' 'Plocamiaceae' 'Stichodactylidae' 'Rhodogorgonaceae'\n",
      " 'Gelidiellaceae' 'Rhodophycophyta incertae sedis']\n",
      "Region names: ['Mariana Archipelago' 'Pacific Remote Island Areas'\n",
      " 'Main Hawaiian Islands' 'Northwestern Hawaiian Islands' 'American Samoa']\n"
     ]
    }
   ],
   "source": [
    "print (\"# of families:\", df['FAMILY'].nunique())\n",
    "print (\"Families:\", df['FAMILY'].unique())\n",
    "print (\"Region names:\", df['REGION_NAME'].unique())"
   ]
  },
  {
   "cell_type": "code",
   "execution_count": 11,
   "metadata": {},
   "outputs": [],
   "source": [
    "#Get dummies for Acroporidae and REGION_NAME\n",
    "features = pd.get_dummies(df['FAMILY'])\n",
    "df['Acro_fam']=np.where((df['FAMILY'].isin(['Acroporidae'])), 1,0)\n",
    "df['Archipelago']=np.where((df['REGION_NAME'].isin(['Mariana Archipelago'])), 1,0)\n",
    "df['Remote'] = np.where((df['REGION_NAME'].isin(['Pacific Remote Island Areas'])), 1, 0)\n",
    "df['Main HI'] = np.where((df['REGION_NAME'].isin(['Main Hawaiian Islands'])),1,0)\n",
    "df['NW HI'] = np.where((df['REGION_NAME'].isin(['Northwestern Hawaiian Islands'])), 1, 0)\n",
    "df['Samoa']=np.where((df['REGION_NAME'].isin(['American Samoa'])), 1,0)"
   ]
  },
  {
   "cell_type": "code",
   "execution_count": 79,
   "metadata": {},
   "outputs": [
    {
     "name": "stdout",
     "output_type": "stream",
     "text": [
      "            OBJECTID        ROUNDID    SITEVISITID       LATITUDE  \\\n",
      "count  102797.000000  102797.000000  102797.000000  102797.000000   \n",
      "mean   127142.162155      47.270378    2720.260377      11.790533   \n",
      "std     79747.018105      13.621488    1145.527734      14.384323   \n",
      "min         7.000000       1.000000     740.000000     -14.559639   \n",
      "25%     57216.000000      38.000000    1800.000000       0.814666   \n",
      "50%    109236.000000      42.000000    2517.000000      18.096650   \n",
      "75%    203166.000000      59.000000    3485.000000      21.889760   \n",
      "max    257626.000000      68.000000    5058.000000      28.453650   \n",
      "\n",
      "           LONGITUDE        MIN_Z_M        MAX_Z_M       OBS_YEAR  \\\n",
      "count  102797.000000  102797.000000  102797.000000  102797.000000   \n",
      "mean      -85.846523      10.871815      13.363007    2009.736442   \n",
      "std       138.954342       4.046064       4.255341       1.554034   \n",
      "min      -178.378433       1.000000       1.000000    2005.000000   \n",
      "25%      -170.759450       9.000000      12.000000    2009.000000   \n",
      "50%      -162.368316      12.000000      14.000000    2010.000000   \n",
      "75%       144.652570      13.000000      16.000000    2011.000000   \n",
      "max       166.660472      27.000000      29.000000    2012.000000   \n",
      "\n",
      "       LPITRANSECTRUN     METHODCODE       ...               Sarigan  \\\n",
      "count   102797.000000  102797.000000       ...         102797.000000   \n",
      "mean      4159.700808      22.320963       ...              0.008385   \n",
      "std       2610.033234       1.688539       ...              0.091188   \n",
      "min          4.000000      21.000000       ...              0.000000   \n",
      "25%        818.000000      22.000000       ...              0.000000   \n",
      "50%       5129.000000      22.000000       ...              0.000000   \n",
      "75%       6323.000000      22.000000       ...              0.000000   \n",
      "max       7068.000000      30.000000       ...              1.000000   \n",
      "\n",
      "              Swains            Tau         Tinian        Tutuila  \\\n",
      "count  102797.000000  102797.000000  102797.000000  102797.000000   \n",
      "mean        0.029009       0.020361       0.014621       0.071977   \n",
      "std         0.167831       0.141231       0.120031       0.258451   \n",
      "min         0.000000       0.000000       0.000000       0.000000   \n",
      "25%         0.000000       0.000000       0.000000       0.000000   \n",
      "50%         0.000000       0.000000       0.000000       0.000000   \n",
      "75%         0.000000       0.000000       0.000000       0.000000   \n",
      "max         1.000000       1.000000       1.000000       1.000000   \n",
      "\n",
      "                Wake       Backreef       Forereef         Lagoon  \\\n",
      "count  102797.000000  102797.000000  102797.000000  102797.000000   \n",
      "mean        0.054360       0.042170       0.828312       0.115237   \n",
      "std         0.226727       0.200979       0.377111       0.319309   \n",
      "min         0.000000       0.000000       0.000000       0.000000   \n",
      "25%         0.000000       0.000000       1.000000       0.000000   \n",
      "50%         0.000000       0.000000       1.000000       0.000000   \n",
      "75%         0.000000       0.000000       1.000000       0.000000   \n",
      "max         1.000000       1.000000       1.000000       1.000000   \n",
      "\n",
      "       Protected Slope  \n",
      "count    102797.000000  \n",
      "mean          0.014281  \n",
      "std           0.118646  \n",
      "min           0.000000  \n",
      "25%           0.000000  \n",
      "50%           0.000000  \n",
      "75%           0.000000  \n",
      "max           1.000000  \n",
      "\n",
      "[8 rows x 66 columns]\n"
     ]
    }
   ],
   "source": [
    "print (df.describe())"
   ]
  },
  {
   "cell_type": "code",
   "execution_count": 236,
   "metadata": {},
   "outputs": [
    {
     "data": {
      "text/plain": [
       "<matplotlib.axes._subplots.AxesSubplot at 0x12b7b4b0>"
      ]
     },
     "execution_count": 236,
     "metadata": {},
     "output_type": "execute_result"
    },
    {
     "data": {
      "image/png": "[encoded data removed]",
      "text/plain": [
       "<Figure size 432x288 with 1 Axes>"
      ]
     },
     "metadata": {
      "needs_background": "light"
     },
     "output_type": "display_data"
    }
   ],
   "source": [
    "df['FAMILY'].value_counts().head(20).plot(kind = 'bar')\n"
   ]
  },
  {
   "cell_type": "code",
   "execution_count": 13,
   "metadata": {},
   "outputs": [
    {
     "name": "stdout",
     "output_type": "stream",
     "text": [
      "['Guam' 'Santa Rosa' 'Wake' 'Hawaii' 'Kauai' 'Kaula' 'Lanai' 'Lehua'\n",
      " 'Maui' 'Molokai' 'Niihau' 'Oahu' 'French Frigate' 'Kure' 'Laysan'\n",
      " 'Lisianski' 'Maro' 'Midway' 'Necker' 'Pearl & Hermes' 'Baker' 'Howland'\n",
      " 'Jarvis' 'Johnston' 'Kingman' 'Palmyra' 'Ofu & Olosega' 'Rose' 'Swains'\n",
      " 'Tau' 'Tutuila' 'Agrihan' 'Aguijan' 'Alamagan' 'Asuncion'\n",
      " 'Farallon de Pajaros' 'Guguan' 'Maug' 'Pagan' 'Rota' 'Saipan' 'Sarigan'\n",
      " 'Tinian']\n",
      "Number of Islands: 43\n"
     ]
    }
   ],
   "source": [
    "print (df['ISLAND'].unique())\n",
    "print (\"Number of Islands:\", df['ISLAND'].nunique())"
   ]
  },
  {
   "cell_type": "code",
   "execution_count": 67,
   "metadata": {},
   "outputs": [
    {
     "name": "stdout",
     "output_type": "stream",
     "text": [
      "4\n",
      "['Forereef' 'Lagoon' 'Protected Slope' 'Backreef']\n"
     ]
    }
   ],
   "source": [
    "print (df['REEF_ZONE'].nunique())\n",
    "print (df['REEF_ZONE'].unique())"
   ]
  },
  {
   "cell_type": "code",
   "execution_count": 238,
   "metadata": {},
   "outputs": [
    {
     "data": {
      "text/plain": [
       "<matplotlib.axes._subplots.AxesSubplot at 0xab23530>"
      ]
     },
     "execution_count": 238,
     "metadata": {},
     "output_type": "execute_result"
    },
    {
     "data": {
      "image/png": "[encoded data removed]",
      "text/plain": [
       "<Figure size 432x288 with 2 Axes>"
      ]
     },
     "metadata": {
      "needs_background": "light"
     },
     "output_type": "display_data"
    }
   ],
   "source": [
    "sns.heatmap(df.corr())"
   ]
  },
  {
   "cell_type": "code",
   "execution_count": 239,
   "metadata": {},
   "outputs": [
    {
     "name": "stdout",
     "output_type": "stream",
     "text": [
      "962\n",
      "963\n"
     ]
    }
   ],
   "source": [
    "print (df['LATITUDE'].nunique())\n",
    "print (df['LONGITUDE'].nunique())"
   ]
  },
  {
   "cell_type": "code",
   "execution_count": 107,
   "metadata": {},
   "outputs": [],
   "source": [
    "#df.sort_values(by=['OBS_YEAR', 'FAMILY'], ascending=True)"
   ]
  },
  {
   "cell_type": "code",
   "execution_count": 82,
   "metadata": {},
   "outputs": [
    {
     "data": {
      "text/plain": [
       "array(['Guam', 'Santa Rosa', 'Wake', 'Hawaii', 'Kauai', 'Kaula', 'Lanai',\n",
       "       'Lehua', 'Maui', 'Molokai', 'Niihau', 'Oahu', 'French Frigate',\n",
       "       'Kure', 'Laysan', 'Lisianski', 'Maro', 'Midway', 'Necker',\n",
       "       'Pearl & Hermes', 'Baker', 'Howland', 'Jarvis', 'Johnston',\n",
       "       'Kingman', 'Palmyra', 'Ofu & Olosega', 'Rose', 'Swains', 'Tau',\n",
       "       'Tutuila', 'Agrihan', 'Aguijan', 'Alamagan', 'Asuncion',\n",
       "       'Farallon de Pajaros', 'Guguan', 'Maug', 'Pagan', 'Rota', 'Saipan',\n",
       "       'Sarigan', 'Tinian'], dtype=object)"
      ]
     },
     "execution_count": 82,
     "metadata": {},
     "output_type": "execute_result"
    }
   ],
   "source": [
    "df['ISLAND'].unique()\n"
   ]
  },
  {
   "cell_type": "code",
   "execution_count": 29,
   "metadata": {},
   "outputs": [],
   "source": [
    "df = pd.concat([df, df['ISLAND'].str.get_dummies(sep=',')], axis=1)"
   ]
  },
  {
   "cell_type": "code",
   "execution_count": 65,
   "metadata": {},
   "outputs": [],
   "source": [
    "df = pd.concat([df, df['REEF_ZONE'].str.get_dummies(sep=',')], axis=1)"
   ]
  },
  {
   "cell_type": "code",
   "execution_count": null,
   "metadata": {},
   "outputs": [],
   "source": [
    "#Tiago code to group\n",
    "\n",
    "df.groupby[x for x in df.columns if x != 'COUNT']\n",
    "\n"
   ]
  },
  {
   "cell_type": "code",
   "execution_count": 89,
   "metadata": {},
   "outputs": [],
   "source": [
    "data = df[['LATITUDE', \n",
    "           'LONGITUDE', \n",
    "           'MIN_Z_M', \n",
    "           'MAX_Z_M', \n",
    "           'OBS_YEAR', \n",
    "           'LPITRANSECTRUN', \n",
    "           'TRANNUM', \n",
    "           'Acro_fam', \n",
    "           'Archipelago', \n",
    "           'Remote', \n",
    "           'Main HI', \n",
    "           'NW HI', \n",
    "           'Samoa', \n",
    "           'Guam', 'Santa Rosa', 'Wake', 'Hawaii', 'Kauai', 'Kaula', 'Lanai',\n",
    "       'Lehua', 'Maui', 'Molokai', 'Niihau', 'Oahu', 'French Frigate',\n",
    "       'Kure', 'Laysan', 'Lisianski', 'Maro', 'Midway', 'Necker',\n",
    "       'Pearl & Hermes', 'Baker', 'Howland', 'Jarvis', 'Johnston',\n",
    "       'Kingman', 'Palmyra', 'Ofu & Olosega', 'Rose', 'Swains', 'Tau',\n",
    "       'Tutuila', 'Agrihan', 'Aguijan', 'Alamagan', 'Asuncion',\n",
    "       'Farallon de Pajaros', 'Guguan', 'Maug', 'Pagan', 'Rota', 'Saipan',\n",
    "       'Sarigan', 'Tinian',\n",
    "           'Forereef', 'Lagoon', 'Protected Slope', 'Backreef'\n",
    "          ]]\n",
    "target = df['COUNT']\n"
   ]
  },
  {
   "cell_type": "code",
   "execution_count": 70,
   "metadata": {},
   "outputs": [],
   "source": [
    "from sklearn.model_selection import train_test_split\n",
    "from sklearn.naive_bayes import BernoulliNB\n",
    "from sklearn import linear_model\n",
    "from sklearn.linear_model import LogisticRegression\n",
    "from sklearn.linear_model import LinearRegression\n"
   ]
  },
  {
   "cell_type": "code",
   "execution_count": 71,
   "metadata": {},
   "outputs": [
    {
     "name": "stderr",
     "output_type": "stream",
     "text": [
      "C:\\Users\\harr1\\Anaconda3\\lib\\site-packages\\sklearn\\linear_model\\logistic.py:433: FutureWarning: Default solver will be changed to 'lbfgs' in 0.22. Specify a solver to silence this warning.\n",
      "  FutureWarning)\n",
      "C:\\Users\\harr1\\Anaconda3\\lib\\site-packages\\sklearn\\linear_model\\logistic.py:460: FutureWarning: Default multi_class will be changed to 'auto' in 0.22. Specify the multi_class option to silence this warning.\n",
      "  \"this warning.\", FutureWarning)\n"
     ]
    },
    {
     "name": "stdout",
     "output_type": "stream",
     "text": [
      "LogisticRegression(C=1000000000.0, class_weight=None, dual=False,\n",
      "          fit_intercept=True, intercept_scaling=1, max_iter=100,\n",
      "          multi_class='warn', n_jobs=None, penalty='l2', random_state=None,\n",
      "          solver='warn', tol=0.0001, verbose=0, warm_start=False)\n"
     ]
    },
    {
     "name": "stderr",
     "output_type": "stream",
     "text": [
      "C:\\Users\\harr1\\Anaconda3\\lib\\site-packages\\sklearn\\linear_model\\logistic.py:433: FutureWarning: Default solver will be changed to 'lbfgs' in 0.22. Specify a solver to silence this warning.\n",
      "  FutureWarning)\n",
      "C:\\Users\\harr1\\Anaconda3\\lib\\site-packages\\sklearn\\linear_model\\logistic.py:460: FutureWarning: Default multi_class will be changed to 'auto' in 0.22. Specify the multi_class option to silence this warning.\n",
      "  \"this warning.\", FutureWarning)\n",
      "C:\\Users\\harr1\\Anaconda3\\lib\\site-packages\\sklearn\\svm\\base.py:922: ConvergenceWarning: Liblinear failed to converge, increase the number of iterations.\n",
      "  \"the number of iterations.\", ConvergenceWarning)\n"
     ]
    },
    {
     "name": "stdout",
     "output_type": "stream",
     "text": [
      "Log Regression: 0.9784370946822308\n",
      "BernoulliNB(alpha=1.0, binarize=0.0, class_prior=None, fit_prior=True)\n",
      "BNB Regression: 0.9784046692607004\n"
     ]
    }
   ],
   "source": [
    "bnb = BernoulliNB() \n",
    "lr=LogisticRegression(C=1e9)\n",
    "\n",
    "x_train, x_test, y_train, y_test = train_test_split(data,target, test_size=.3, random_state = 20)\n",
    "print(lr.fit(data,target))\n",
    "print('Log Regression:', lr.fit(x_train, y_train).score(x_test, y_test))\n",
    "print(bnb.fit(data, target))\n",
    "print('BNB Regression:', bnb.fit(x_train, y_train).score(x_test, y_test))"
   ]
  },
  {
   "cell_type": "code",
   "execution_count": 72,
   "metadata": {},
   "outputs": [
    {
     "name": "stdout",
     "output_type": "stream",
     "text": [
      "[-9.66887730e-02  2.65934393e-02 -5.97238358e-03  5.86985594e-03\n",
      " -4.32609253e-01  1.84476177e-04  5.51569195e-03  5.61648542e-02\n",
      " -5.48367251e+00  2.51959065e-01  2.44825744e+00  3.09403145e+00\n",
      " -3.10575446e-01 -6.14046205e-01 -1.07761216e+00 -6.59793044e+00\n",
      " -3.12910497e-01 -5.10133850e-02  3.44624432e+00 -2.21230484e-01\n",
      "  2.14885362e-01 -2.22878088e-01 -1.81479367e-01 -6.77637560e-02\n",
      " -1.55596662e-01 -3.05439724e-01  4.76509517e-01  2.40228010e-01\n",
      "  1.51434615e-02  3.41430291e-01  5.92356796e-01  1.44811321e+00\n",
      "  2.85689885e-01  9.57180321e-01  9.64486116e-01  4.48264517e-01\n",
      "  2.38228932e+00  1.08032063e+00  1.01734861e+00 -1.88672614e-01\n",
      " -1.50953725e-01  3.37138236e-01 -1.99298635e-01 -1.08788708e-01\n",
      " -2.00393880e-01 -5.61481160e-01 -3.71410712e-01 -9.36324667e-02\n",
      " -2.03575571e-03 -3.84683618e-01 -5.16139080e-02 -2.59985838e-01\n",
      " -4.91288621e-01 -4.89098215e-01 -3.49233817e-01 -5.37156152e-01\n",
      "  6.09649489e-02  4.57524784e-02 -1.49894033e-01  4.31766061e-02]\n",
      "873.3963481423943\n",
      "0.1214633666370778\n",
      "0.1336236968013369\n"
     ]
    }
   ],
   "source": [
    "regr = linear_model.LinearRegression()\n",
    "regr.fit(data, target)\n",
    "print (regr.coef_)\n",
    "print (regr.intercept_)\n",
    "print (regr.fit(x_train, y_train).score(x_test, y_test))\n",
    "print (regr.score(data, target))\n"
   ]
  },
  {
   "cell_type": "code",
   "execution_count": 61,
   "metadata": {},
   "outputs": [
    {
     "data": {
      "text/plain": [
       "array([0.1241286 , 0.00727536, 0.        , 0.        , 0.        ])"
      ]
     },
     "execution_count": 61,
     "metadata": {},
     "output_type": "execute_result"
    }
   ],
   "source": [
    "from sklearn.model_selection import cross_val_score\n",
    "cross_val_score(regr, data, target, cv=5)"
   ]
  },
  {
   "cell_type": "code",
   "execution_count": 62,
   "metadata": {},
   "outputs": [
    {
     "name": "stdout",
     "output_type": "stream",
     "text": [
      "0.007576355206586283\n",
      "[-0.02621683 -0.01243399  0.          0.          0.        ]\n"
     ]
    }
   ],
   "source": [
    "ridgeregr = linear_model.Ridge(alpha = 10, fit_intercept = False)\n",
    "ridgeregr.fit(x_train, y_train)\n",
    "print (ridgeregr.fit(x_train, y_train).score(x_test, y_test))\n",
    "print (cross_val_score(ridgeregr, data, target, cv = 5))\n",
    "\n"
   ]
  },
  {
   "cell_type": "markdown",
   "metadata": {},
   "source": [
    "## Seems like Log and BNB regressions perform really well and linear regression and ridge regressions consistently perform poorly."
   ]
  },
  {
   "cell_type": "code",
   "execution_count": 50,
   "metadata": {},
   "outputs": [
    {
     "data": {
      "text/plain": [
       "datetime.datetime(2019, 4, 23, 15, 30, tzinfo=<UTC>)"
      ]
     },
     "execution_count": 50,
     "metadata": {},
     "output_type": "execute_result"
    }
   ],
   "source": [
    "from buoyant import Buoy\n",
    "\n",
    "Guam = Buoy(52200)\n",
    "Guam.sea_water_temperature\n",
    "Guam.sea_water_temperature.datetime"
   ]
  },
  {
   "cell_type": "code",
   "execution_count": 21,
   "metadata": {},
   "outputs": [
    {
     "ename": "ImportError",
     "evalue": "cannot import name 'Station' from 'NDBC' (C:\\Users\\harr1\\Anaconda3\\lib\\site-packages\\NDBC\\__init__.py)",
     "output_type": "error",
     "traceback": [
      "\u001b[1;31m---------------------------------------------------------------------------\u001b[0m",
      "\u001b[1;31mImportError\u001b[0m                               Traceback (most recent call last)",
      "\u001b[1;32m<ipython-input-21-a13b74dd8942>\u001b[0m in \u001b[0;36m<module>\u001b[1;34m\u001b[0m\n\u001b[1;32m----> 1\u001b[1;33m \u001b[1;32mfrom\u001b[0m \u001b[0mNDBC\u001b[0m \u001b[1;32mimport\u001b[0m \u001b[0mStation\u001b[0m\u001b[1;33m\u001b[0m\u001b[1;33m\u001b[0m\u001b[0m\n\u001b[0m\u001b[0;32m      2\u001b[0m \u001b[1;32mfrom\u001b[0m \u001b[0mdatetime\u001b[0m \u001b[1;32mimport\u001b[0m \u001b[0mdatetime\u001b[0m\u001b[1;33m\u001b[0m\u001b[1;33m\u001b[0m\u001b[0m\n",
      "\u001b[1;31mImportError\u001b[0m: cannot import name 'Station' from 'NDBC' (C:\\Users\\harr1\\Anaconda3\\lib\\site-packages\\NDBC\\__init__.py)"
     ]
    }
   ],
   "source": [
    "from NDBC import Station\n",
    "from datetime import datetime"
   ]
  },
  {
   "cell_type": "code",
   "execution_count": null,
   "metadata": {},
   "outputs": [],
   "source": []
  }
 ],
 "metadata": {
  "kernelspec": {
   "display_name": "Python 3",
   "language": "python",
   "name": "python3"
  },
  "language_info": {
   "codemirror_mode": {
    "name": "ipython",
    "version": 3
   },
   "file_extension": ".py",
   "mimetype": "text/x-python",
   "name": "python",
   "nbconvert_exporter": "python",
   "pygments_lexer": "ipython3",
   "version": "3.7.1"
  }
 },
 "nbformat": 4,
 "nbformat_minor": 2
}
